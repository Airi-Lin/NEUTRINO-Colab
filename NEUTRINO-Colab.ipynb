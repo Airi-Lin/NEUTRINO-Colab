{
  "nbformat": 4,
  "nbformat_minor": 0,
  "metadata": {
    "colab": {
      "provenance": [],
      "private_outputs": true
    },
    "kernelspec": {
      "name": "python3",
      "display_name": "Python 3"
    },
    "language_info": {
      "name": "python"
    },
    "accelerator": "GPU",
    "gpuClass": "standard"
  },
  "cells": [
    {
      "cell_type": "code",
      "execution_count": null,
      "metadata": {
        "id": "n5243CoCn5v5",
        "cellView": "form"
      },
      "outputs": [],
      "source": [
        "#@markdown Connect your Drive account to Colab (100% necessary because your Google Drive storage will save all the thing downloaded)\n",
        "from google.colab import drive\n",
        "drive.mount(\"/content/drive\")"
      ]
    },
    {
      "cell_type": "code",
      "source": [
        "#@markdown If the download doesn´t want to work, try this cell\n",
        "!pip install --upgrade --no-cache-dir gdown"
      ],
      "metadata": {
        "id": "Iz8Lsj7QEBss",
        "cellView": "form"
      },
      "execution_count": null,
      "outputs": []
    },
    {
      "cell_type": "code",
      "source": [
        "#@markdown Setup NEUTRINO to your Drive (skip if you already done this in the past)\n",
        "!gdown 1Z_6eIw-d51Cggpq6Wrr1otImppozqM-u\n",
        "!unzip NEUTRINO-Online-v1.3.0.zip\n",
        "!mv /content/NEUTRINO /content/drive/MyDrive\n",
        "!rm /content/NEUTRINO-Online-v1.3.0.zip"
      ],
      "metadata": {
        "id": "dOi2byIKpZEX",
        "cellView": "form"
      },
      "execution_count": null,
      "outputs": []
    },
    {
      "cell_type": "code",
      "source": [
        "#@markdown Download the VB's (Merrow is bundled with NEUTRINO)\n",
        "\n",
        "voice = 'Metan' #@param ['Kiritan', 'Seven', 'Nakumo', 'Yoko', 'JSUT', 'Itako', 'Zunko', 'Zundamon', 'Metan']\n",
        "\n",
        "if voice == 'Kiritan':\n",
        "  !gdown 16QgC2NQ9c4TJ7CwwywcpgWzwOHz_zrr4\n",
        "  !mkdir /content/drive/MyDrive/NEUTRINO/model/KIRITAN\n",
        "  !unzip -j /content/東北きりたん（NEUTRINO-Library）-v1.3.2.zip -d /content/drive/MyDrive/NEUTRINO/model/KIRITAN\n",
        "  !rm /content/東北きりたん（NEUTRINO-Library）-v1.3.2.zip\n",
        "\n",
        "elif voice == 'Seven':\n",
        "  !gdown 1X59Y17UvI4fI8FqFi5ximiHWhmseIc3H\n",
        "  !mkdir /content/drive/MyDrive/NEUTRINO/model/SEVEN\n",
        "  !unzip -j /content/No.7（NEUTRINO-Library）-v1.3.2.zip -d /content/drive/MyDrive/NEUTRINO/model/SEVEN\n",
        "  !rm /content/No.7（NEUTRINO-Library）-v1.3.2.zip\n",
        "\n",
        "elif voice == 'Nakumo':\n",
        "  !gdown 19vvc3De8i7JDKY9u95B8w5DV4Nyp2OKC\n",
        "  !mkdir /content/drive/MyDrive/NEUTRINO/model/NAKUMO\n",
        "  !unzip -j /content/ナクモ（NEUTRINO-Library）-v1.3.2-beta.zip -d /content/drive/MyDrive/NEUTRINO/model/NAKUMO\n",
        "  !rm /content/ナクモ（NEUTRINO-Library）-v1.3.2-beta.zip\n",
        "\n",
        "elif voice == 'Yoko':\n",
        "  !gdown 1V_jFyWHQamc0hau_bVkD3HQgzt6-OfK_\n",
        "  !mkdir /content/drive/MyDrive/NEUTRINO/model/YOKO\n",
        "  !unzip -j /content/謡子（NEUTRINO-Library）-v1.3.2.zip -d /content/drive/MyDrive/NEUTRINO/model/YOKO\n",
        "  !rm /content/謡子（NEUTRINO-Library）-v1.3.2.zip\n",
        "\n",
        "elif voice == 'JSUT':\n",
        "  !gdown 1xvJbMGkJivE0rkiGN6tonMoRd4bZ4NqF\n",
        "  !mkdir /content/drive/MyDrive/NEUTRINO/model/JSUT\n",
        "  !unzip -j /content/JSUT（NEUTRINO-Library）-v1.3.2.zip -d /content/drive/MyDrive/NEUTRINO/model/JSUT\n",
        "  !rm /content/JSUT（NEUTRINO-Library）-v1.3.2.zip\n",
        "\n",
        "elif voice == 'Itako':\n",
        "  !gdown 1H7e38irUIeeUUZt8PmOJiREADMqdbB-e\n",
        "  !mkdir /content/drive/MyDrive/NEUTRINO/model/ITAKO\n",
        "  !unzip -j /content/東北イタコ（NEUTRINO-Library）-v1.3.2.zip -d /content/drive/MyDrive/NEUTRINO/model/ITAKO\n",
        "  !rm /content/東北イタコ（NEUTRINO-Library）-v1.3.2.zip\n",
        "\n",
        "elif voice == 'Zunko':\n",
        "  !gdown 16Go1i5HE2f9rldAXgXzLdloPAOQJP4KM\n",
        "  !mkdir /content/drive/MyDrive/NEUTRINO/model/ZUNKO\n",
        "  !unzip -j 東北ずん子（NEUTRINO-Library）-v1.3.2.zip -d /content/drive/MyDrive/NEUTRINO/model/ZUNKO\n",
        "  !rm /content/東北ずん子（NEUTRINO-Library）-v1.3.2.zip\n",
        "\n",
        "elif voice == 'Zundamon':\n",
        "  !gdown 1-CndtH2xbu9WGWtc72G0gAPHYSkLmP3N\n",
        "  !mkdir /content/drive/MyDrive/NEUTRINO/model/ZUNDAMON\n",
        "  !unzip -j ずんだもん（NEUTRINO-Library）-v1.3.2.zip -d /content/drive/MyDrive/NEUTRINO/model/ZUNDAMON\n",
        "  !rm /content/ずんだもん（NEUTRINO-Library）-v1.3.2.zip\n",
        "\n",
        "elif voice == 'Metan':\n",
        "  !gdown 1lNp4L2B3BPqc8F03fd2SSkrxMAWK8TgE\n",
        "  !mkdir /content/drive/MyDrive/NEUTRINO/model/METAN\n",
        "  !unzip -j 四国めたん（NEUTRINO-Library）-v1.3.2.zip -d /content/drive/MyDrive/NEUTRINO/model/METAN\n",
        "  !rm 四国めたん（NEUTRINO-Library）-v1.3.2.zip"
      ],
      "metadata": {
        "cellView": "form",
        "id": "TCseYwLkIM1P"
      },
      "execution_count": null,
      "outputs": []
    },
    {
      "cell_type": "markdown",
      "source": [
        "From paid VB´s (Akane and Aoi), I wont be providing download links, you need to get a legal copy."
      ],
      "metadata": {
        "id": "eL2BkLWWIDYo"
      }
    },
    {
      "cell_type": "code",
      "source": [
        "#Download Akane\n",
        "gdrive_ID = ID #@param \n",
        "zip_name = a.zip #@param \n",
        "singer_name = AKANE #@param\n",
        "\n",
        "!gdown {gdrive_ID}\n",
        "!mkdir /content/drive/MyDrive/NEUTRINO/model/{singer_name}\n",
        "!unzip -j /content/{filename} /content/drive/MyDrive/NEUTRINO/model/{singer_name}\n",
        "!rm /content/{filename}"
      ],
      "metadata": {
        "id": "qK5fEssIIBqC",
        "cellView": "form"
      },
      "execution_count": null,
      "outputs": []
    },
    {
      "cell_type": "markdown",
      "source": [
        "# Time to run!"
      ],
      "metadata": {
        "id": "vT8UzTqAG9-d"
      }
    },
    {
      "cell_type": "code",
      "source": [
        "#@markdown Run this\n",
        "%cd /content/drive/MyDrive/NEUTRINO"
      ],
      "metadata": {
        "cellView": "form",
        "id": "t3NzMoI5HISg"
      },
      "execution_count": null,
      "outputs": []
    },
    {
      "cell_type": "code",
      "source": [
        "#@markdown And these\n",
        "%%bash\n",
        "find . -type f -exec chmod 755 \\{\\} \\;\n"
      ],
      "metadata": {
        "id": "hEfsJn495z4W",
        "cellView": "form"
      },
      "execution_count": null,
      "outputs": []
    },
    {
      "cell_type": "code",
      "source": [
        "#@markdown Upload the project file\n",
        "\n",
        "from google.colab import files\n",
        "uploaded = files.upload()\n",
        "\n",
        "!mv *.musicxml /content/drive/MyDrive/NEUTRINO/score/musicxml\n",
        "\n",
        "\n",
        "\n",
        "\n"
      ],
      "metadata": {
        "id": "yIfGD30X5u7b",
        "cellView": "form"
      },
      "execution_count": null,
      "outputs": []
    },
    {
      "cell_type": "markdown",
      "source": [
        "# For users that want a simple and easy run"
      ],
      "metadata": {
        "id": "jI3hLEi3FGYB"
      }
    },
    {
      "cell_type": "code",
      "source": [
        "#@title  { vertical-output: true }\n",
        "#@markdown Render NSF and WORLD results\n",
        "# Run All process\n",
        "\n",
        "%%bash\n",
        "# Project settings\n",
        "project_name=sample1 #@param\n",
        "NumThreads=0\n",
        "output_name=merrow #@param\n",
        "\n",
        "# musicXML_to_label\n",
        "SUFFIX=musicxml\n",
        "\n",
        "# NEUTRINO\n",
        "Singer=MERROW #@param ['KIRITAN', 'SEVEN', 'NAKUMO', 'YOKO', 'JSUT', 'ITAKO', 'ZUNKO', 'ZUNDAMON', 'METAN' , 'MERROW' , 'AKANE' , 'AOI']\n",
        "StyleShift=0\n",
        "\n",
        "# WORLD\n",
        "PitchShift=1.0\n",
        "FormantShift=1.0\n",
        "\n",
        "# WORLD(beta version option)\n",
        "SmoothPitch=0.0\n",
        "SmoothFormant=0.0\n",
        "EnhanceBreathiness=0.0\n",
        "\n",
        "# NSF\n",
        "GPU_ID=0\n",
        "\n",
        "# PATH to currennt library\n",
        "export LD_LIBRARY_PATH=$PWD/bin:$PWD/NSF/bin:$LD_LIBRARY_PATH\n",
        "\n",
        "echo \"`date +\"%M:%S.%2N\"` : start MusicXMLtoLabel\"\n",
        "./bin/musicXMLtoLabel score/musicxml/${project_name}.${SUFFIX} score/label/full/${project_name}.lab score/label/mono/${project_name}.lab\n",
        "\n",
        "echo \"`date +\"%M:%S.%2N\"` : start NEUTRINO\"\n",
        "./bin/NEUTRINO score/label/full/${project_name}.lab score/label/timing/${project_name}.lab ./output/${project_name}.f0 ./output/${project_name}.mgc ./output/${project_name}.bap ./model/${Singer}/ -n ${NumThreads} -k ${StyleShift} -t -m\n",
        "\n",
        "echo \"`date +\"%M:%S.%2N\"` : start WORLD\"\n",
        "./bin/WORLD output/${project_name}.f0 output/${project_name}.mgc output/${project_name}.bap -f ${PitchShift} -m ${FormantShift} -p ${SmoothPitch} -c ${SmoothFormant} -b ${EnhanceBreathiness} -o output/${output_name}_syn.wav -n ${NumThreads} -t\n",
        "\n",
        "echo \"`date +\"%M:%S.%2N\"` : start NSF\"\n",
        "./bin/NSF output/${project_name}.f0 output/${project_name}.mgc output/${project_name}.bap ./model/${Singer}/model_nsf.bin output/${output_name}_nsf.wav -l score/label/timing/${project_name}.lab -n ${NumThreads} -g -i ${GPU_ID} -t\n",
        "\n",
        "echo \"`date +\"%M:%S.%2N\"` : END\""
      ],
      "metadata": {
        "id": "42NveKVo510X",
        "cellView": "form"
      },
      "execution_count": null,
      "outputs": []
    },
    {
      "cell_type": "code",
      "source": [
        "#@markdown Render with just NSF\n",
        "# Run All process\n",
        "\n",
        "%%bash\n",
        "# Project settings\n",
        "project_name=sample1 #@param\n",
        "NumThreads=0\n",
        "output_name=merrow #@param\n",
        "\n",
        "# musicXML_to_label\n",
        "SUFFIX=musicxml\n",
        "\n",
        "# NEUTRINO\n",
        "Singer=MERROW #@param ['KIRITAN', 'SEVEN', 'NAKUMO', 'YOKO', 'JSUT', 'ITAKO', 'ZUNKO', 'ZUNDAMON', 'METAN' , 'MERROW' , 'AKANE' , 'AOI']\n",
        "StyleShift=0\n",
        "\n",
        "# WORLD\n",
        "PitchShift=1.0\n",
        "FormantShift=1.0\n",
        "\n",
        "# WORLD(beta version option)\n",
        "SmoothPitch=0.0\n",
        "SmoothFormant=0.0\n",
        "EnhanceBreathiness=0.0\n",
        "\n",
        "# NSF\n",
        "GPU_ID=0\n",
        "\n",
        "# PATH to currennt library\n",
        "export LD_LIBRARY_PATH=$PWD/bin:$PWD/NSF/bin:$LD_LIBRARY_PATH\n",
        "\n",
        "echo \"`date +\"%M:%S.%2N\"` : start MusicXMLtoLabel\"\n",
        "./bin/musicXMLtoLabel score/musicxml/${project_name}.${SUFFIX} score/label/full/${project_name}.lab score/label/mono/${project_name}.lab\n",
        "\n",
        "echo \"`date +\"%M:%S.%2N\"` : start NEUTRINO\"\n",
        "./bin/NEUTRINO score/label/full/${project_name}.lab score/label/timing/${project_name}.lab ./output/${project_name}.f0 ./output/${project_name}.mgc ./output/${project_name}.bap ./model/${Singer}/ -n ${NumThreads} -k ${StyleShift} -t -m\n",
        "\n",
        "echo \"`date +\"%M:%S.%2N\"` : start NSF\"\n",
        "./bin/NSF output/${project_name}.f0 output/${project_name}.mgc output/${project_name}.bap ./model/${Singer}/model_nsf.bin output/${output_name}_nsf.wav -l score/label/timing/${project_name}.lab -n ${NumThreads} -g -i ${GPU_ID} -t\n",
        "\n",
        "echo \"`date +\"%M:%S.%2N\"` : END\""
      ],
      "metadata": {
        "id": "DBMG3Bhi6qQt",
        "cellView": "form"
      },
      "execution_count": null,
      "outputs": []
    },
    {
      "cell_type": "markdown",
      "source": [
        "# For users that want more control of the output"
      ],
      "metadata": {
        "id": "_KEl9cCt0XkW"
      }
    },
    {
      "cell_type": "code",
      "source": [
        "#@markdown Render NSF and WORLD results\n",
        "# Run All process\n",
        "\n",
        "%%bash\n",
        "# Project settings\n",
        "project_name=sample1 #@param\n",
        "NumThreads=0\n",
        "\n",
        "# musicXML_to_label\n",
        "SUFFIX=musicxml\n",
        "\n",
        "# NEUTRINO\n",
        "Singer=MERROW #@param ['KIRITAN', 'SEVEN', 'NAKUMO', 'YOKO', 'JSUT', 'ITAKO', 'ZUNKO', 'ZUNDAMON', 'METAN' , 'MERROW' , 'AKANE' , 'AOI']\n",
        "StyleShift=0 #@param\n",
        "output_name=test #@param\n",
        "#@markdown WORLD settings\n",
        "# WORLD\n",
        "PitchShift=1.0 #@param\n",
        "FormantShift=1.0 #@param\n",
        "#@markdown WORLD settings (BETA)\n",
        "# WORLD(beta version option)\n",
        "SmoothPitch=0.0 #@param\n",
        "SmoothFormant=0.0 #@param\n",
        "EnhanceBreathiness=0.0 #@param\n",
        "\n",
        "# NSF\n",
        "GPU_ID=0\n",
        "\n",
        "# PATH to currennt library\n",
        "export LD_LIBRARY_PATH=$PWD/bin:$PWD/NSF/bin:$LD_LIBRARY_PATH\n",
        "\n",
        "echo \"`date +\"%M:%S.%2N\"` : start MusicXMLtoLabel\"\n",
        "./bin/musicXMLtoLabel score/musicxml/${project_name}.${SUFFIX} score/label/full/${project_name}.lab score/label/mono/${project_name}.lab\n",
        "\n",
        "echo \"`date +\"%M:%S.%2N\"` : start NEUTRINO\"\n",
        "./bin/NEUTRINO score/label/full/${project_name}.lab score/label/timing/${project_name}.lab ./output/${project_name}.f0 ./output/${project_name}.mgc ./output/${project_name}.bap ./model/${Singer}/ -n ${NumThreads} -k ${StyleShift} -t -m\n",
        "\n",
        "echo \"`date +\"%M:%S.%2N\"` : start WORLD\"\n",
        "./bin/WORLD output/${project_name}.f0 output/${project_name}.mgc output/${project_name}.bap -f ${PitchShift} -m ${FormantShift} -p ${SmoothPitch} -c ${SmoothFormant} -b ${EnhanceBreathiness} -o output/${output_name}_syn.wav -n ${NumThreads} -t\n",
        "\n",
        "echo \"`date +\"%M:%S.%2N\"` : start NSF\"\n",
        "./bin/NSF output/${project_name}.f0 output/${project_name}.mgc output/${project_name}.bap ./model/${Singer}/model_nsf.bin output/${output_name}_nsf.wav -l score/label/timing/${project_name}.lab -n ${NumThreads} -g -i ${GPU_ID} -t\n",
        "\n",
        "echo \"`date +\"%M:%S.%2N\"` : END\""
      ],
      "metadata": {
        "cellView": "form",
        "id": "c0Ug3tFI0RJ7"
      },
      "execution_count": null,
      "outputs": []
    },
    {
      "cell_type": "code",
      "source": [
        "#@markdown Render with just NSF\n",
        "# Run All process\n",
        "\n",
        "%%bash\n",
        "# Project settings\n",
        "project_name=voices #@param\n",
        "NumThreads=0\n",
        "output_name=voices_merrow #@param\n",
        "\n",
        "# musicXML_to_label\n",
        "SUFFIX=musicxml\n",
        "\n",
        "# NEUTRINO\n",
        "Singer=MERROW #@param ['KIRITAN', 'SEVEN', 'NAKUMO', 'YOKO', 'JSUT', 'ITAKO', 'ZUNKO', 'ZUNDAMON', 'METAN' , 'MERROW' , 'AKANE' , 'AOI']\n",
        "StyleShift=0 #@param\n",
        "\n",
        "# WORLD\n",
        "PitchShift=1.0\n",
        "FormantShift=1.0\n",
        "\n",
        "# WORLD(beta version option)\n",
        "SmoothPitch=0.0\n",
        "SmoothFormant=0.0\n",
        "EnhanceBreathiness=0.0\n",
        "\n",
        "# NSF\n",
        "GPU_ID=0\n",
        "\n",
        "# PATH to currennt library\n",
        "export LD_LIBRARY_PATH=$PWD/bin:$PWD/NSF/bin:$LD_LIBRARY_PATH\n",
        "\n",
        "echo \"`date +\"%M:%S.%2N\"` : start MusicXMLtoLabel\"\n",
        "./bin/musicXMLtoLabel score/musicxml/${project_name}.${SUFFIX} score/label/full/${project_name}.lab score/label/mono/${project_name}.lab\n",
        "\n",
        "echo \"`date +\"%M:%S.%2N\"` : start NEUTRINO\"\n",
        "./bin/NEUTRINO score/label/full/${project_name}.lab score/label/timing/${project_name}.lab ./output/${project_name}.f0 ./output/${project_name}.mgc ./output/${project_name}.bap ./model/${Singer}/ -n ${NumThreads} -k ${StyleShift} -t -m\n",
        "\n",
        "echo \"`date +\"%M:%S.%2N\"` : start NSF\"\n",
        "./bin/NSF output/${project_name}.f0 output/${project_name}.mgc output/${project_name}.bap ./model/${Singer}/model_nsf.bin output/${output_name}_nsf.wav -l score/label/timing/${project_name}.lab -n ${NumThreads} -g -i ${GPU_ID} -t\n",
        "\n",
        "echo \"`date +\"%M:%S.%2N\"` : END\""
      ],
      "metadata": {
        "cellView": "form",
        "id": "FoWUa7ZeICkl"
      },
      "execution_count": null,
      "outputs": []
    }
  ]
}